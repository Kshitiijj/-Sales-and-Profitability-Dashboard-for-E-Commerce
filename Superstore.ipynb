{
 "cells": [
  {
   "cell_type": "code",
   "execution_count": 7,
   "id": "0d7b7704-4d89-4355-943b-d59abc42ce05",
   "metadata": {},
   "outputs": [],
   "source": [
    "import pandas as pd\n",
    "\n",
    "# Load data\n",
    "df = pd.read_csv(\"Sample_Superstore.csv\", encoding='ISO-8859-1')\n",
    "\n"
   ]
  },
  {
   "cell_type": "code",
   "execution_count": 9,
   "id": "cda62505-6bf1-4f12-a821-e311fde1aca7",
   "metadata": {},
   "outputs": [],
   "source": [
    "df.dropna(inplace=True)\n",
    "df['Order Date'] = pd.to_datetime(df['Order Date'])\n",
    "df['Ship Date'] = pd.to_datetime(df['Ship Date'])\n",
    "df['Sales'] = pd.to_numeric(df['Sales'], errors='coerce')\n",
    "df['Profit'] = pd.to_numeric(df['Profit'], errors='coerce')\n",
    "df['Profit Margin (%)'] = (df['Profit'] / df['Sales']) * 100\n",
    "df.to_csv(\"superstore_cleaned.csv\", index=False)"
   ]
  },
  {
   "cell_type": "code",
   "execution_count": null,
   "id": "70d31931-796f-4d74-af66-5549d7a48b41",
   "metadata": {},
   "outputs": [],
   "source": []
  }
 ],
 "metadata": {
  "kernelspec": {
   "display_name": "Python 3 (ipykernel)",
   "language": "python",
   "name": "python3"
  },
  "language_info": {
   "codemirror_mode": {
    "name": "ipython",
    "version": 3
   },
   "file_extension": ".py",
   "mimetype": "text/x-python",
   "name": "python",
   "nbconvert_exporter": "python",
   "pygments_lexer": "ipython3",
   "version": "3.12.7"
  }
 },
 "nbformat": 4,
 "nbformat_minor": 5
}
